{
 "cells": [
  {
   "cell_type": "code",
   "execution_count": 36,
   "id": "ae3836c6",
   "metadata": {},
   "outputs": [
    {
     "name": "stdout",
     "output_type": "stream",
     "text": [
      "                   *\n",
      "                  o$&\n",
      "                 &$$&o\n",
      "                $$o$&&o\n",
      "               &**ooo&*o\n",
      "              oo*$o&*$$&&\n",
      "             *&o&*o$$$o$&o\n",
      "            o&$&&$$*$$&o*&o\n",
      "           $$*o**&o$$&$oo$&o\n",
      "          o*&$$*$o&&&o*&*&*&$\n",
      "         &$o$o$*o&&&o$o$$&$&$*\n",
      "        &oo*oo*$o&&$$**&$o*&o*&\n",
      "       ****$&&*&&$$$o*&$*&o*&$*&\n",
      "      o&&oo*o*&o$*$&&&o**oo$o&$$o\n",
      "     $$*o$o&***o&*&&&*$**oo&$o&o$*\n",
      "    $$$&&**$$$o$&*&&o**$&o$$o*o$*$&\n",
      "   o*&o$&o$$*o*$*o$$&*o*$o$o&o$o$*o*\n",
      "  **o&****o&$&*$ooo&o&o$*&$o*o&*o****\n",
      " o*$$$*&&*$*o&&o$&o&o$&$$*$o&&$$**oo*&\n",
      "o$$*$o$**&$*$$o$*&&$o$$o*&$oo&o**o**&$$\n",
      "                  |||\n",
      "                  |||\n",
      "                  |||\n",
      "                  |||\n",
      "                  |||\n",
      "                  |||\n"
     ]
    }
   ],
   "source": [
    "import random\n",
    "\n",
    "altura = 20\n",
    "base = 2*altura-1\n",
    "espacios = \" \"\n",
    "espacios_iniciales = base//2\n",
    "\n",
    "\n",
    "\n",
    "for i in range(1, base + 1, 2):\n",
    "    print(espacios * espacios_iniciales, end='')\n",
    "    decorar = [random.choice(['*', 'o','$','&']) for _ in range(i)]\n",
    "    print(\"\".join(decorar))\n",
    "    espacios_iniciales -= 1\n",
    "\n",
    "espacios_iniciales = base//2   \n",
    "for i in range(int(altura/3)):\n",
    "    print(espacios * (espacios_iniciales -1) + \"|||\")\n"
   ]
  }
 ],
 "metadata": {
  "kernelspec": {
   "display_name": "Python 3",
   "language": "python",
   "name": "python3"
  },
  "language_info": {
   "codemirror_mode": {
    "name": "ipython",
    "version": 3
   },
   "file_extension": ".py",
   "mimetype": "text/x-python",
   "name": "python",
   "nbconvert_exporter": "python",
   "pygments_lexer": "ipython3",
   "version": "3.13.0"
  }
 },
 "nbformat": 4,
 "nbformat_minor": 5
}
