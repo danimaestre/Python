{
 "cells": [
  {
   "cell_type": "markdown",
   "metadata": {},
   "source": [
    "Funciones con argumento key"
   ]
  },
  {
   "cell_type": "code",
   "execution_count": null,
   "metadata": {},
   "outputs": [],
   "source": [
    "datos = [257, 573, -714, 321, -158, 642, 407]\n",
    "\n",
    "print(max(datos))\n",
    "\n",
    "print(max(datos, key=abs))  # Pasamos la funcion como argumento sin parentesis\n",
    "\n",
    "print(min(datos))\n",
    "print(min(datos, key=abs))\n",
    "\n",
    "print(sorted(datos))\n",
    "print(sorted(datos, reverse=True))\n",
    "print(sorted(datos, key=abs))\n",
    "\n",
    "cadenas = [\"kkkkk\", \"hhhhhh\", \"qqqqqqqqqqq\", \"tttt\"]\n",
    "print(\"*************************************\")\n",
    "\n",
    "print(max(cadenas)) # --> Devuelve t orden alfabetico 1º mayusculas luego minusculas\n",
    "print(min(cadenas))\n",
    "\n",
    "print(max(cadenas, key=len))\n",
    "print(min(cadenas, key=len))\n",
    "print(sorted(cadenas, key=len))\n",
    "\n"
   ]
  },
  {
   "cell_type": "code",
   "execution_count": 1,
   "metadata": {},
   "outputs": [
    {
     "name": "stdout",
     "output_type": "stream",
     "text": [
      "(8, 10)\n",
      "(4, 50)\n",
      "[(4, 50), (5, 40), (6, 30), (7, 20), (8, 10)]\n",
      "[(8, 10), (7, 20), (6, 30), (5, 40), (4, 50)]\n"
     ]
    }
   ],
   "source": [
    "datos = [(7, 20), (6, 30), (4, 50), (8, 10), (5, 40)]\n",
    "\n",
    "def indice_uno(secuencia):\n",
    "    return secuencia[1]\n",
    "\n",
    "print(max(datos))\n",
    "print(max(datos, key=indice_uno))\n",
    "print(sorted(datos))\n",
    "print(sorted(datos, key=indice_uno))\n"
   ]
  },
  {
   "cell_type": "code",
   "execution_count": null,
   "metadata": {},
   "outputs": [],
   "source": [
    "datos = [(4,2,1), (5,4,2), (2,1,3), (3,0,1), (3,4,2)]\n",
    "\n",
    "\"\"\" \n",
    "Ordenar la lista de menor a mayor, segun la cantidad que suman sus elementos\n",
    "\"\"\"\n",
    "def suma(elemento):\n",
    "    #return elemento[0] + elemento[1] + elemento[2]\n",
    "    return sum(elemento)\n",
    "\n",
    "print(sorted(datos, key=suma))\n",
    "print(sorted(datos, key=sum)) # Directamente\n",
    "datos.sort(key=sum)\n",
    "print(datos)\n",
    "print(sorted(datos, key=suma, reverse=True))\n",
    "\n",
    "\n",
    "\"\"\" \n",
    "Ordenar la lista de menor a mayor, teniendo en cuenta el tercer elemento primero, luego el segundo y luego el primero.\n",
    "\"\"\"\n",
    "print(\"--------------------------------------------\")\n",
    "def reverso(tupla):\n",
    "    return (tupla[2], tupla[1], tupla[0])\n",
    "\n",
    "ordenada = sorted(datos, key=reverso)\n",
    "print(ordenada)\n"
   ]
  },
  {
   "cell_type": "markdown",
   "metadata": {},
   "source": [
    "Video 3.../Funciones lambda"
   ]
  },
  {
   "cell_type": "code",
   "execution_count": 3,
   "metadata": {},
   "outputs": [
    {
     "name": "stdout",
     "output_type": "stream",
     "text": [
      "4.25\n",
      "4.25\n",
      "6.0\n"
     ]
    }
   ],
   "source": [
    "\"\"\" \n",
    "    La funciones lambda son funciones de una sola linea para usarlas en casos simples que necesitamos utilizar la funcion 1 sola vez.\n",
    "\"\"\"\n",
    "def cuarta_parte(numero):\n",
    "    return numero/4\n",
    "\n",
    "print(cuarta_parte(17))\n",
    "\n",
    "print((lambda x: x /4 )(17))\n",
    "\n",
    "cuarta = lambda x: x/4\n",
    "print(cuarta(24))"
   ]
  },
  {
   "cell_type": "code",
   "execution_count": 4,
   "metadata": {},
   "outputs": [
    {
     "name": "stdout",
     "output_type": "stream",
     "text": [
      "[7, 'aK', 5]\n",
      "[3, 'Dw', 5]\n",
      "[9, 'Jc', 2]\n",
      "[5, 'mx', 4]\n",
      "[4, 'Sv', 6]\n",
      "*****************************************\n",
      "\n",
      "[3, 'Dw', 5]\n",
      "[5, 'mx', 4]\n",
      "[4, 'Sv', 6]\n",
      "[9, 'Jc', 2]\n",
      "[7, 'aK', 5]\n"
     ]
    }
   ],
   "source": [
    "datos = [[9, \"Jc\", 2],\n",
    "         [7, \"aK\", 5],\n",
    "         [4, \"Sv\", 6],\n",
    "         [3, \"Dw\", 5],\n",
    "         [5, \"mx\", 4]]\n",
    "\n",
    "datos.sort(key = lambda x: x[1].lower())\n",
    "\n",
    "\n",
    "for dato in datos:\n",
    "    print(dato)\n",
    "    \n",
    "print(\"*****************************************\")\n",
    "print()\n",
    "datos.sort(key = lambda x: x[0]+x[2])\n",
    "\n",
    "for dato in datos:\n",
    "    print(dato)\n"
   ]
  },
  {
   "cell_type": "code",
   "execution_count": null,
   "metadata": {},
   "outputs": [],
   "source": [
    "# Las ordena por el codigo unicode\n",
    "\n",
    "letras = [\"E\", \"a\", \"i\", \"I\", \"A\", \"e\"]\n",
    "\n",
    "letras.sort()\n",
    "\n",
    "print(letras)\n",
    "\n",
    "print(ord(\"A\"))\n",
    "print(ord(\"a\"))\n",
    "\n",
    "letras2 = [\"Ec\", \"ar\", \"ij\", \"Iw\", \"An\", \"es\"]\n",
    "\n",
    "#letras2.sort(key= str.lower)\n",
    "letras2.sort(key = lambda cadena: cadena.lower())\n",
    "print(letras2)"
   ]
  },
  {
   "cell_type": "markdown",
   "metadata": {},
   "source": [
    "Ordenando palabras con funciones lambda"
   ]
  },
  {
   "cell_type": "code",
   "execution_count": 5,
   "metadata": {},
   "outputs": [
    {
     "name": "stdout",
     "output_type": "stream",
     "text": [
      "['amapola', 'Ángela', 'árbol', 'Argentina', 'Écija', 'elefante', 'Elvira', 'época', 'índice', 'Iñigo', 'isla', 'Italia', 'objeto', 'Olmedo', 'óptica', 'Óscar', 'ukelele', 'último', 'Uruguay', 'Ürsula']\n"
     ]
    }
   ],
   "source": [
    "palabras = [\"isla\", \"último\", \"Ángela\", \"Italia\",\n",
    "            \"índice\", \"Iñigo\", \"óptica\", \"árbol\",\n",
    "            \"Ürsula\", \"época\", \"Olmedo\", \"Uruguay\",\n",
    "            \"Elvira\", \"ukelele\", \"Argentina\", \"Écija\",\n",
    "            \"Óscar\", \"amapola\", \"elefante\", \"objeto\"]\n",
    "\n",
    "palabras.sort(key = lambda p: p.lower().replace(\"á\", \"a\"). replace(\"é\", \"e\").replace(\"í\", \"i\").replace(\"ó\", \"o\").replace(\"ú\", \"u\").replace(\"ñ\", \"nzz\"))\n",
    "\n",
    "print(palabras)"
   ]
  },
  {
   "cell_type": "markdown",
   "metadata": {},
   "source": [
    "Funciones lambda con if else"
   ]
  },
  {
   "cell_type": "code",
   "execution_count": null,
   "metadata": {},
   "outputs": [],
   "source": [
    "resultados = [\n",
    "    [\"101\", \"Alicia\",  \"03:20:05\"],\n",
    "    [\"102\", \"Alberto\", \"03:20:01\"],\n",
    "    [\"103\", \"Jorge\",   \"03:20:04\"],\n",
    "    [\"104\", \"Susana\",  \"03:20:07\"],\n",
    "    [\"105\", \"Roberto\", \"03:20:06\"],\n",
    "    [\"106\", \"Silvia\",  \"03:20:04\"],\n",
    "    [\"107\", \"Ignacio\", \"03:20:02\"],\n",
    "    [\"108\", \"Raquel\",  \"03:20:03\"]\n",
    "]\n",
    "\n",
    "resultados.sort(key = lambda x: int(x[2][:2]) * 3600 + int(x[2][3:5]) * 60 + int(x[2][6:]))\n",
    "for r in resultados:\n",
    "    print(r)"
   ]
  },
  {
   "cell_type": "code",
   "execution_count": 6,
   "metadata": {},
   "outputs": [
    {
     "name": "stdout",
     "output_type": "stream",
     "text": [
      "[('e', 1), (2, 'b'), ('d', 3), ('c', 4), (5, 'a')]\n",
      "[(5, 'a'), (2, 'b'), ('c', 4), ('d', 3), ('e', 1)]\n"
     ]
    }
   ],
   "source": [
    "# En las funciones lambda si usamos if es obligatorio poner else\n",
    "\n",
    "datos = [(5, \"a\"), (\"d\", 3), (\"e\", 1), (2, \"b\"), (\"c\", 4)]\n",
    "\n",
    "datos.sort(key = lambda x: x[0] if  isinstance(x[0], int) else x[1])\n",
    "print(datos)\n",
    "datos.sort(key = lambda x: x[0] if  isinstance(x[0], str) else x[1])\n",
    "\n",
    "print(datos)"
   ]
  },
  {
   "cell_type": "markdown",
   "metadata": {},
   "source": [
    "Ordenando de forma selectiva con funciones lambda"
   ]
  },
  {
   "cell_type": "code",
   "execution_count": null,
   "metadata": {},
   "outputs": [],
   "source": [
    "''' \n",
    "    Tenemos una lista con numeros del 1 al 100. Ordenar la lista primero con los multiplos de 10, y luego con los no multiplos de 10. Los numeros a su vez han de estar ordenados\n",
    "'''\n",
    "\n",
    "datos = [40, 20, 51, 41, 30, 11, 50, 31, 10, 21]\n",
    "\n",
    "datos.sort(key = lambda x: x if x % 10 == 0 else x + 1000)\n",
    "\n",
    "print(datos)"
   ]
  },
  {
   "cell_type": "code",
   "execution_count": 2,
   "metadata": {},
   "outputs": [
    {
     "name": "stdout",
     "output_type": "stream",
     "text": [
      "{'Nombre': 'Vesta', 'Tipo': 'Asteroide', 'Diametro': 530}\n",
      "{'Nombre': 'Ceres', 'Tipo': 'Asteroide', 'Diametro': 945}\n",
      "{'Nombre': 'Europa', 'Tipo': 'Satelite', 'Diametro': 3121}\n",
      "{'Nombre': 'Luna', 'Tipo': 'Satelite', 'Diametro': 3476}\n",
      "{'Nombre': 'Marte', 'Tipo': 'Planeta', 'Diametro': 6794}\n",
      "{'Nombre': 'Neptuno', 'Tipo': 'Planeta', 'Diametro': 49572}\n",
      "{'Nombre': 'Sol', 'Tipo': 'Estrella', 'Diametro': 1391016}\n"
     ]
    }
   ],
   "source": [
    "objetos_celestes = [\n",
    "    {\"Nombre\": \"Marte\", \"Tipo\": \"Planeta\", \"Diametro\": 6794},\n",
    "    {\"Nombre\": \"Europa\", \"Tipo\": \"Satelite\", \"Diametro\": 3121},\n",
    "    {\"Nombre\": \"Sol\", \"Tipo\": \"Estrella\", \"Diametro\": 1391016},\n",
    "    {\"Nombre\": \"Neptuno\", \"Tipo\": \"Planeta\", \"Diametro\": 49572},\n",
    "    {\"Nombre\": \"Ceres\", \"Tipo\": \"Asteroide\", \"Diametro\": 945},\n",
    "    {\"Nombre\": \"Luna\", \"Tipo\": \"Satelite\", \"Diametro\": 3476},\n",
    "    {\"Nombre\": \"Vesta\", \"Tipo\": \"Asteroide\", \"Diametro\": 530},]\n",
    "\n",
    "\n",
    "objetos_celestes.sort(key=lambda x: x[\"Diametro\"])\n",
    "\n",
    "for objeto in objetos_celestes:\n",
    "    print(objeto)"
   ]
  },
  {
   "cell_type": "markdown",
   "metadata": {},
   "source": [
    "Orden alfabetico para el idioma castellano.\n"
   ]
  },
  {
   "cell_type": "code",
   "execution_count": null,
   "metadata": {},
   "outputs": [],
   "source": [
    "''' \n",
    "    Ordenar la lista en orde alfabetico, empezando por la m: (m-z), luego (a-l)\n",
    "'''\n",
    "\n",
    "nombres = [\"Jorge\", \"Íñigo\", \"Alba\", \"María\", \"César\",\n",
    "           \"Marta\", \"Claudia\", \"Álvaro\", \"Paula\", \"Javier\",\n",
    "           \"Silvia\", \"Ñuflo\", \"Azucena\",\"Irene\", \"Laura\",\n",
    "           \"Zaira\", \"Añua\", \"Raúl\", \"Victor\", \"Mario\"]\n",
    "\n",
    "def ord_alf(cadena):\n",
    "    alfabeto = {\n",
    "        'A':1, 'Á':1, 'a':1, 'á':1,\n",
    "        'B':2, 'b':2,\n",
    "        'C':3, 'c':3,\n",
    "        'D':4, 'd':4,\n",
    "        'E':5, 'É':5, 'e':5, 'é':5,\n",
    "        'F':6, 'f':6,\n",
    "        'G':7, 'g':7,\n",
    "        'H':8, 'h':8,\n",
    "        'I':9, 'Í':9, 'i':9, 'í':9,\n",
    "        'J':10, 'j':10,\n",
    "        'K':11, 'k':11,\n",
    "        'L':12, 'l':12,\n",
    "        'M':13, 'm':13,\n",
    "        'N':14, 'n':14,\n",
    "        'Ñ':15, 'ñ':15,\n",
    "        'O':16, 'Ó':16, 'o':16, 'ó':16,\n",
    "        'P':17, 'p':17,\n",
    "        'Q':18, 'q':18,\n",
    "        'R':19, 'r':19,\n",
    "        'S':20, 's':20,\n",
    "        'T':21, 't':21,\n",
    "        'U':22, 'Ú':22, 'u':22, 'ú':22,\n",
    "        'V':23, 'v':23,\n",
    "        'W':24, 'w':24,\n",
    "        'X':25, 'x':25,\n",
    "        'Y':26, 'y':26,\n",
    "        'Z':27, 'z':27\n",
    "    }\n",
    "\n",
    "    codigos = []\n",
    "    for letra in cadena:\n",
    "        codigos.append(alfabeto[letra])\n",
    "    return codigos\n",
    "\n",
    "print(ord_alf(\"Añua\"))\n",
    "\n",
    "nombres.sort(key= ord_alf)\n",
    "print(nombres)\n",
    "\n",
    "nombres.sort(key= lambda p: ord_alf(p) if ord_alf(p)[0] > 12 else [100] + ord_alf(p))\n",
    "\n",
    "nombres.sort(key= lambda p: [-1] + ord_alf(p) if ord_alf(p)[0] > 12 else  ord_alf(p))\n",
    "\n",
    "print(nombres)\n"
   ]
  },
  {
   "cell_type": "markdown",
   "metadata": {},
   "source": [
    "Funciones bool, any , all"
   ]
  },
  {
   "cell_type": "code",
   "execution_count": null,
   "metadata": {},
   "outputs": [],
   "source": [
    "''' \n",
    "    Esta funciones devuelven valores logicos\n",
    "'''\n",
    "\n",
    "print(bool(\" \"))  # True \n",
    "print(bool(\"\"))   # False\n",
    "print(bool(1))  # True\n",
    "print(bool(0))  # False\n",
    "print(bool(None)) #False\n",
    "print(bool([])) # False\n",
    "print(bool([3])) # True\n",
    "#print(help(any))\n",
    "\n",
    "print( any([0, None, \"\", False])) # --> False\n",
    "\n",
    "print( any([0, None, \"\", 25])) # --> True si algun elemento existe\n",
    "print(\"All\")\n",
    "print(all([\"\",\"\", \"\",\"a\"])) # False Todos los elementos del iterable tienen que ser True\n",
    "\n",
    "print(all([\"e\",\"0\", True, 25])) # True\n",
    "print(all([1,2,3,4,0])) # False (0 valor falso)"
   ]
  },
  {
   "cell_type": "markdown",
   "metadata": {},
   "source": [
    "Funcion para validar contraseñas"
   ]
  },
  {
   "cell_type": "code",
   "execution_count": null,
   "metadata": {},
   "outputs": [],
   "source": [
    "''' \n",
    "    Definir una funcion que valide contraseñas a la hora de elegir una. Ha de comprobar que la contraseña tenga:\n",
    "        -Entre 6 y 12 caracteres.\n",
    "        -Al menos una letra.\n",
    "        -Al menos 1 digito.\n",
    "        -Al menos 1 mayuscula.\n",
    "        -Al menos una minuscula.\n",
    "        -Al menos un caracter especial.\n",
    "    Si alguno de los requisitos no se cumple, informara de ese requisito, pero solo del primer requisito que no se cumpla.\n",
    "'''\n",
    "\n",
    "from string import punctuation\n",
    "\n",
    "def validar_contrasenia(cts):\n",
    "    if 5 < len(cts) < 13:\n",
    "        if any([c.isdigit() for c in cts]):\n",
    "            if any([c.islower() for c in cts]):\n",
    "                if any([c.isupper() for c in cts]):\n",
    "                    if any([True if c in punctuation else False for c in cts ]):\n",
    "                        print(\"Contraseña establecida correctamente\")\n",
    "                        return True\n",
    "                \n",
    "                    else:\n",
    "                        print(\"La contraseña ha de contener algun caracter especial\")\n",
    "                else:\n",
    "                    print(\"La contraseña ha de contener alguna mayuscula\")\n",
    "            else:\n",
    "                print(\"La contraseña ha de contener alguna minuscula\")\n",
    "        else:\n",
    "            print(\"La contraseña ha de contener algun digito\")\n",
    "    else:\n",
    "        print(\"La contraseña ha de tener entre 6 y 12 caracteres\")\n",
    "    return False\n",
    "\n",
    "intentos = 0\n",
    "while True:\n",
    "    contrasenia = input(\"Introduce la contraseña: \") \n",
    "    intentos += 1 \n",
    "    \n",
    "    if validar_contrasenia(contrasenia):\n",
    "        print(f\"La contaseña intoducida ha sido: {contrasenia}\")\n",
    "        break \n",
    "    elif intentos > 3:\n",
    "        contrasenia = None\n",
    "        print(\"No ha sido posible establecer la contraseña\")\n",
    "        break         \n",
    "            \n",
    "                    \n",
    "            "
   ]
  },
  {
   "cell_type": "code",
   "execution_count": null,
   "metadata": {},
   "outputs": [],
   "source": [
    "''' \n",
    "    Definir una funcion que valide contraseñas a la hora de elegir una. Ha de comprobar que la contraseña tenga:\n",
    "        -Entre 6 y 12 caracteres.\n",
    "        -Al menos una letra.\n",
    "        -Al menos 1 digito.\n",
    "        -Al menos 1 mayuscula.\n",
    "        -Al menos una minuscula.\n",
    "        -Al menos un caracter especial.\n",
    "    Si alguno de los requisitos no se cumple, informara de ese requisito, pero solo del primer requisito que no se cumpla.\n",
    "            Forma optimizada\n",
    "'''\n",
    "\n",
    "from string import punctuation\n",
    "\n",
    "def validar_contrasenia(cts):\n",
    "    if  len(cts) < 6 or len(cts) > 12:\n",
    "        print(\"La contraseña ha de tener entre 6 y 12 caracteres\")\n",
    "\n",
    "    elif  not any([c.isdigit() for c in cts]):\n",
    "        print(\"La contraseña ha de contener algun digito\")\n",
    "\n",
    "    elif not any([c.islower() for c in cts]):\n",
    "        print(\"La contraseña ha de contener alguna minuscula\")\n",
    "\n",
    "    elif not any([c.isupper() for c in cts]):\n",
    "        print(\"La contraseña ha de contener alguna mayuscula\")\n",
    "\n",
    "    elif not any([True if c in punctuation else False for c in cts ]):\n",
    "        print(\"La contraseña ha de contener algun caracter especial\")\n",
    "        \n",
    "    else:\n",
    "        print(\"Contraseña establecida correctamente\")\n",
    "        return True\n",
    "    return False\n",
    "                \n",
    "intentos = 0\n",
    "while True:\n",
    "    contrasenia = input(\"Introduce la contraseña: \") \n",
    "    intentos += 1 \n",
    "    \n",
    "    if validar_contrasenia(contrasenia):\n",
    "        print(f\"La contaseña intoducida ha sido: {contrasenia}\")\n",
    "        break \n",
    "    elif intentos > 3:\n",
    "        contrasenia = None\n",
    "        print(\"No ha sido posible establecer la contraseña\")\n",
    "        break               \n",
    "                    \n",
    "            "
   ]
  },
  {
   "cell_type": "markdown",
   "metadata": {},
   "source": [
    "Iterables e iteradores"
   ]
  },
  {
   "cell_type": "code",
   "execution_count": null,
   "metadata": {},
   "outputs": [],
   "source": [
    "''' \n",
    "    Los iterables son objetos sobre los que de puede iterar: (listas, tuplas, cadenas, range, diccionarios, sets).\n",
    "    \n",
    "    Los iteradores permiten recorrer todos los elementos de una coleccion de datos de un iterable de una forma distinta a los iterables. La forma mas directa en que nos los encotramos es en algunas funciones predifinidas devuelven este tipo de objetos iteradores: iter(), reversed(), enumerate(), zip(), filter(), map()\n",
    "'''\n",
    "a = iter(range(10))\n",
    "print(a) #--> Contiene un objeto iterador: <range_iterator object at 0x000002548AA17A10>\n",
    "\n",
    "b = list(range(10))\n",
    "print(b) #--> Contiene un objeto lista iterador: [1,2,3,4,5,6,7,8,9,10]\n",
    "\n",
    "# Tanto a como b tienen los mismos elementos diferencia a (iterador) se accede 1 a 1 a medida que se necesiten y en b iterable los elementos estan todos den una lista\n",
    "\n",
    "# La funcion next() sirve para acceder a los elementos del iterable\n",
    "\n",
    "print(next(a))\n",
    "print(next(a))\n",
    "print(\"---------------------\")\n",
    "for i in a:\n",
    "    print(i)\n",
    "# Imprime despues de la llamada next el iterador se va vaciando con cada llamada, sirven para ahorrar memoria en un programa"
   ]
  },
  {
   "cell_type": "markdown",
   "metadata": {},
   "source": [
    "Funcion reversed"
   ]
  },
  {
   "cell_type": "code",
   "execution_count": null,
   "metadata": {},
   "outputs": [],
   "source": [
    "lista = [(3, \"a\"), (1, \"b\"), (5, \"c\"), (2, \"d\"), (1, \"e\"), (7, \"f\"), (4, \"g\")]\n",
    "\n",
    "reverso = reversed(lista)\n",
    "print(reverso)  # Devuelve objeto iterador\n",
    "\n",
    "for i in reverso:\n",
    "    if i[0] == 1:\n",
    "        print(i)\n",
    "    if i[0] == 2:\n",
    "        print(i) # Una vez recorrido un iterador tendriamos que crear uno nuevo para realizar nuevas operaciones\n",
    "        \n"
   ]
  },
  {
   "cell_type": "code",
   "execution_count": 3,
   "metadata": {},
   "outputs": [
    {
     "name": "stdout",
     "output_type": "stream",
     "text": [
      "* (1, 'e')\n",
      "* (1, 'b')\n"
     ]
    }
   ],
   "source": [
    "lista = [(3, \"a\"), (1, \"b\"), (5, \"c\"), (2, \"d\"), (1, \"e\"), (7, \"f\"), (4, \"g\")]\n",
    "\n",
    "reverso = reversed(lista)\n",
    "\n",
    "        \n",
    "# Cuando el iterador se vacia dentro de blucle while de un error, por eso lo capturamos\n",
    "        \n",
    "while True:\n",
    "    try:\n",
    "        elemento = next(reverso)\n",
    "        if elemento[0] == 1:\n",
    "            print(\"*\", elemento)\n",
    "    except StopIteration:\n",
    "        break"
   ]
  },
  {
   "cell_type": "code",
   "execution_count": null,
   "metadata": {},
   "outputs": [],
   "source": [
    "''' \n",
    "    Precauciones con las listas en iteradores\n",
    "'''\n",
    "\n",
    "lista = [1,2,3,4,5]\n",
    "\n",
    "reverso = reversed(lista)\n",
    "print(next(reverso))\n",
    "print(next(reverso))\n",
    "\n",
    "lista.clear()\n",
    "print(next(reverso))  # Da error la lista se ha vaciado y el iterador que estaba dentro esta vacio\n"
   ]
  },
  {
   "cell_type": "code",
   "execution_count": null,
   "metadata": {},
   "outputs": [],
   "source": [
    "''' \n",
    "    Precauciones con las listas en iteradores\n",
    "'''\n",
    "\n",
    "lista = [1,2,3,4,5]\n",
    "\n",
    "reverso = reversed(lista)\n",
    "print(next(reverso))\n",
    "print(next(reverso))\n",
    "\n",
    "del lista\n",
    "\n",
    "\n",
    "print(next(reverso))\n",
    "\n",
    "# del elimina la referencia al objeto pero no el objeto por eso el iterador sigue existiendo. Desvincula la relacion entre la variable y el objeto\n",
    "print (lista)\n",
    "\n"
   ]
  },
  {
   "cell_type": "markdown",
   "metadata": {},
   "source": [
    "Funcion enumerate"
   ]
  },
  {
   "cell_type": "code",
   "execution_count": null,
   "metadata": {},
   "outputs": [],
   "source": [
    "frutas = [\"manzana\", \"naranja\", \"plátano\", \"pera\", \"melón\"]\n",
    "\n",
    "numerados = enumerate(frutas) # Devuelve objeto tipo enumerate\n",
    "\n",
    "print(numerados) # <enumerate object at 0x000001EA4F052A20>\n",
    "\n",
    "# Devuelve una tupla con cada uno de los elemetos del iterador acompañado de un contador\n",
    "\n",
    "for elemento in enumerate(frutas):\n",
    "    print(elemento)\n",
    "    \n",
    "# Podemos desempaquetar las tuplas:\n",
    "\n",
    "for contador, elemento in enumerate(frutas, 1):\n",
    "    print(contador, elemento)\n",
    "\n",
    "# Crea una lista de tuplas, la funcion list() necesita un iterable y iterador es iterable,  convierte el iterador en una lista de tuplas\n",
    "   \n",
    "frutras2 = list(enumerate(frutas))\n",
    "print(frutras2)\n",
    "\n",
    "# Listas por comprension\n",
    "print(\"------------------------------------------\")\n",
    "numerado = [[x,y]for  x, y in enumerate(frutas)]\n",
    "print(numerado)\n",
    "\n",
    "# Convertir en un diccionario\n",
    "print(\"DICCIONARIO:\")\n",
    "numerado_2 = dict(enumerate(frutas))\n",
    "print(numerado_2)\n",
    "\n",
    "# Se pueden utiliar con cadenas de caracteres, con range, tuplas\n",
    "\n",
    "for tupla in enumerate(range(10,20), 3):\n",
    "    print(tupla)\n",
    "    \n",
    "for indice, letra in enumerate(\"artefacto\", 1):\n",
    "    print(indice, letra)\n"
   ]
  },
  {
   "cell_type": "code",
   "execution_count": null,
   "metadata": {},
   "outputs": [],
   "source": [
    "datos = [[0,0,0,0,0,0,0,1,0,0],\n",
    "         [0,0,0,1,0,0,0,0,0,0],\n",
    "         [0,0,0,0,1,0,0,0,0,0],\n",
    "         [1,0,0,0,0,0,0,0,0,0],\n",
    "         [0,0,0,0,1,0,0,0,0,0],\n",
    "         [0,0,0,0,0,1,0,0,0,0],\n",
    "         [0,0,1,0,0,0,0,0,0,0],\n",
    "         [0,1,0,0,0,0,0,0,0,0],\n",
    "         [0,0,0,0,0,0,1,0,0,0],\n",
    "         [0,0,0,0,0,0,0,0,1,0],]\n",
    "\n",
    "unos = [i for fila in datos for i, v in enumerate(fila, 1) if v == 1]\n",
    "print(unos)"
   ]
  },
  {
   "cell_type": "markdown",
   "metadata": {},
   "source": [
    "Video 14"
   ]
  },
  {
   "cell_type": "code",
   "execution_count": null,
   "metadata": {},
   "outputs": [],
   "source": [
    "''' \n",
    "    1. Hallar el indice de la primera ocurrencia del numero mayor de la lista.\n",
    "    \n",
    "    2. Hallar una lista con los indices de todas las ocurrencias del numero mayor de la lista\n",
    "'''\n",
    "\n",
    "numeros = [43, 27, 58, 12, 39, 58, 54, 33, 21, 58, 17, 46]\n",
    "\n",
    "i_mayor = max(enumerate(numeros), key=lambda x: x[1])[0]\n",
    "i_mayor2 = numeros.index(max(numeros))\n",
    "print(i_mayor)\n",
    "print(i_mayor2)\n",
    "\n",
    "''' \n",
    "2. Hallar una lista con los indices de todas las ocurrencias del numero mayor de la lista\n",
    "'''\n",
    "numeros2 = [43, 27, 58, 12, 39, 58, 54, 33, 21, 58, 17, 46]\n",
    "\n",
    "i_mayores = [[i,n]  for i, n in enumerate(numeros2) if n == max(numeros2)]\n",
    "\n",
    "print(i_mayores)\n"
   ]
  },
  {
   "cell_type": "markdown",
   "metadata": {},
   "source": [
    "Funcion Zip"
   ]
  },
  {
   "cell_type": "code",
   "execution_count": null,
   "metadata": {},
   "outputs": [],
   "source": [
    "''' \n",
    "La funcion zip combina los elementos de los diferentes iterables que se les pase. Y nos devuelve un objeto iterador que genera tuplas con los elementos correspondientes de cada uno de los iterables del indice que ocupan\n",
    "'''\n",
    "alumnos = [\"Jorge\", \"Sara\", \"Lucia\", \"Andres\", \"Miguel\"]\n",
    "\n",
    "edades = [25, 19, 31, 28, 42]\n",
    "\n",
    "notas = [7.2, 4.5, 6.8, 8.25, 7.9]\n",
    "\n",
    "datos_alumnos =list( zip(alumnos, edades, notas))\n",
    "print(datos_alumnos) #--> <zip object at 0x000001CA2D28A5C0> Hay que pasarlo a lista si lo queremos rrecorrer varias veces, porque si no el iterador queda vacio al recorrelo varias veces.\n",
    "\n",
    "# datos_alumnos es un objeto iterable hay que recorrerlo con un for\n",
    "\n",
    "for dato in datos_alumnos:\n",
    "    print(f\"Nombre: {dato[0]}, Edad: {dato[1]}, Nota: {dato[2]}\")\n",
    "\n",
    "# Otra manera es desempaquetando las tuplas\n",
    "print(\"\\n*****************************************\")\n",
    "for a, e, n in datos_alumnos:\n",
    "    print(f\"{a} de {e} ha obtenido {n}\")\n",
    " \n",
    " # A un diccionario solo le podemos pasar 2 iterables\n",
    "    \n",
    "datos2 = dict(zip(alumnos, notas))\n",
    "print(f\"\\n{datos2}\")\n",
    "\n",
    "print()\n",
    "\n",
    "minusc = \"abcde\"\n",
    "mayusc = [\"A\", \"B\", \"C\", \"D\", \"E\"]\n",
    "numeros = range(1,6)\n",
    "\n",
    "grupo = zip(minusc, mayusc, numeros)\n",
    "\n",
    "for g in grupo:\n",
    "    print(g)\n",
    "    \n",
    "# La lista esta vacia porque hemos recorrido el iterador con el for y esta vacio\n",
    "\n",
    "lista_grupos = list(grupo)\n",
    "\n",
    "print(lista_grupos) # --> []"
   ]
  },
  {
   "cell_type": "markdown",
   "metadata": {},
   "source": [
    "Crear diccionario funcion zip"
   ]
  },
  {
   "cell_type": "code",
   "execution_count": 4,
   "metadata": {},
   "outputs": [
    {
     "name": "stdout",
     "output_type": "stream",
     "text": [
      "El alumno Jorge ha obtenido una nota media de 6.0\n",
      "El alumno Sara ha obtenido una nota media de 8.0\n",
      "El alumno Lucia ha obtenido una nota media de 4.0\n",
      "El alumno Andres ha obtenido una nota media de 6.0\n",
      "El alumno Miguel ha obtenido una nota media de 3.0\n"
     ]
    }
   ],
   "source": [
    "''' \n",
    "Crear un diccionario cuyas claves sean los nombres de los alumnos y cuyos valores sean la media de las tres notas parciales\n",
    "'''\n",
    "nombres = [\"Jorge\", \"Sara\", \"Lucia\", \"Andres\", \"Miguel\"]\n",
    "primero=  [5, 7, 3, 5, 4]\n",
    "segundo = [7, 9, 5, 6, 3]\n",
    "tercero = [6, 8, 4, 7, 2]\n",
    "\n",
    "notas = {}\n",
    "\n",
    "for n, p, s, t in zip(nombres, primero, segundo, tercero):\n",
    "    notas[n] = (p + s + t) / 3\n",
    "    \n",
    "for nom, nt in notas.items():\n",
    "    print(f\"El alumno {nom} ha obtenido una nota media de {nt}\")\n",
    "    "
   ]
  },
  {
   "cell_type": "code",
   "execution_count": null,
   "metadata": {},
   "outputs": [],
   "source": [
    "''''\n",
    "Crear un diccionario cuyas claves sean los nombres de los alumnos y cuyos valores sean la media de las tres notas parciales\n",
    "    2º FORMA\n",
    "'''\n",
    "nombres = [\"Jorge\", \"Sara\", \"Lucia\", \"Andres\", \"Miguel\"]\n",
    "primero=  [5, 7, 3, 5, 4]\n",
    "segundo = [7, 9, 5, 6, 3]\n",
    "tercero = [6, 8, 4, 7, 2]\n",
    "\n",
    "medias = [(p+s+t)/3 for (p,s,t) in zip(primero,segundo, tercero)]\n",
    "notas = dict(zip(nombres, medias))\n",
    "print(medias)\n",
    "\n",
    "for nb, nt in notas.items():\n",
    "    print(f\"{nb:8}{nt:4.1f}\")\n"
   ]
  },
  {
   "cell_type": "markdown",
   "metadata": {},
   "source": [
    "Programacion funcional"
   ]
  },
  {
   "cell_type": "code",
   "execution_count": null,
   "metadata": {},
   "outputs": [],
   "source": [
    "''' \n",
    "    Hallar la suma del doble de los elementos pares de la lista\n",
    "'''\n",
    "\n",
    "datos = [3, 8, 11, 16, 21, 24]\n",
    "\n",
    "# programacion imperativa\n",
    "suma = 0\n",
    "for d in datos:\n",
    "    if d % 2 == 0:\n",
    "        suma += d*2\n",
    "print(\"Esto es programacion imperativa \", suma)\n",
    "\n",
    "# programacion funcional con map, filter, reduce\n",
    "from functools import reduce\n",
    "suma2 = reduce(lambda x,y: x+y, map(lambda x: x*2, filter(lambda x: x % 2 == 0, datos)))\n",
    "\n",
    "print(\"Esto es programacion funcional \",suma2)\n",
    "\n",
    "# Con listas de comprension\n",
    "\n",
    "suma3 = sum( [n*2 for n in datos if n % 2 == 0])\n",
    "\n",
    "print(f\"Esto es por lista por comprension {suma3}\")\n"
   ]
  },
  {
   "cell_type": "markdown",
   "metadata": {},
   "source": [
    "Funcion map()"
   ]
  },
  {
   "cell_type": "code",
   "execution_count": null,
   "metadata": {},
   "outputs": [],
   "source": [
    "''' \n",
    "    La funcion map toma como argumentos a otra funcion y uno o varios iterables. Pasa esa funcion a todos los elementos del iterable o iterables que le pasemos\n",
    "'''\n",
    "\n",
    "datos = [3, 4, 5, 6, 7]\n",
    "\n",
    "dobles =list(map(lambda x: 2*x , datos)) # --> Devuelve <map object at 0x000001FE05987820> por eso lo convertimos a lista\n",
    "\n",
    "dobles2 = [x*2 for x in datos]\n",
    "\n",
    "print(dobles)\n",
    "print(dobles2)\n",
    "\n",
    "def cels_fahr(c):\n",
    "    return round((c * 1.8) + 32)\n",
    "\n",
    "temp_cels = [17, 21, 22, 18, 29, 25]\n",
    "\n",
    "temp_fahr = list(map(cels_fahr, temp_cels))\n",
    "temp_fahr2 = list(map(lambda x: round((x * 1.8) + 32), temp_cels))\n",
    "\n",
    "print(temp_fahr)\n",
    "print(temp_fahr2)\n",
    "\n",
    "cadenas = [\"1\", \"2\", \"3\", \"4\", \"5\"]\n",
    "\n",
    "enteros = list(map(int, cadenas ))\n",
    "\n",
    "numer = [int(x)*2 for x in cadenas]\n",
    "\n",
    "print(enteros)\n",
    "\n",
    "print(numer)\n",
    "\n",
    "datos3 = [\"Sara\", \"marta\", \"daniel\", \"Roberto\"]\n",
    "\n",
    "mayuscula = list(map(str.upper, datos3))\n",
    "mayuscula2 = list(map(str.capitalize, datos3))\n",
    "may = [x.capitalize() for x in datos3]\n",
    "\n",
    "print(mayuscula)\n",
    "print(mayuscula2)\n",
    "print(may)"
   ]
  },
  {
   "cell_type": "code",
   "execution_count": 5,
   "metadata": {},
   "outputs": [
    {
     "name": "stdout",
     "output_type": "stream",
     "text": [
      "['sarA', 'martA', 'danieL', 'robertO']\n",
      "['sarA', 'martA', 'danieL', 'robertO']\n"
     ]
    }
   ],
   "source": [
    "''' \n",
    "    Hacer todas en minusculas menos la ultima letra danieL... con listas por comprension y con map()\n",
    "'''\n",
    "\n",
    "datos = [\"Sara\", \"marta\", \"daniel\", \"Roberto\"]\n",
    "\n",
    "nombres = [n[:-1].lower() + n[-1].upper() for n in datos ]\n",
    "\n",
    "nombres2 = list(map(lambda x: x[:-1].lower()+ x[-1].upper(), datos))\n",
    "\n",
    "print(nombres)\n",
    "print(nombres2)\n"
   ]
  },
  {
   "cell_type": "code",
   "execution_count": null,
   "metadata": {},
   "outputs": [],
   "source": [
    "''' \n",
    "    Restar los elementos de una lista de los elementos de la otra lista con el mismo indice de la otra lista\n",
    "'''\n",
    "\n",
    "primera = [7, 9, 6, 8, 5]\n",
    "segunda = [3, 2, 1, 5, 4]\n",
    "\n",
    "# Por lista de comprension\n",
    "\n",
    "totales = [x - y for x, y in zip(primera, segunda) ]\n",
    "\n",
    "print(totales)\n",
    "\n",
    "# Con funcion map()\n",
    "\n",
    "totales2 = list(map(lambda x, y: x - y, primera, segunda))\n",
    "\n",
    "print(totales2)"
   ]
  },
  {
   "cell_type": "code",
   "execution_count": 6,
   "metadata": {},
   "outputs": [
    {
     "name": "stdout",
     "output_type": "stream",
     "text": [
      "{'Nombre': 'Hierro', 'Peso': 415, 'Precio': 12}\n",
      "{'Nombre': 'Cobre', 'Peso': 138, 'Precio': 32}\n",
      "{'Nombre': 'Zinc', 'Peso': 243, 'Precio': 21}\n",
      "**************************************\n",
      "{'Nombre': 'Hierro', 'Peso': 415, 'Precio': 12}\n",
      "{'Nombre': 'Cobre', 'Peso': 138, 'Precio': 32}\n",
      "{'Nombre': 'Zinc', 'Peso': 243, 'Precio': 21}\n"
     ]
    }
   ],
   "source": [
    "''' \n",
    "    Crear lista de diccionarios a partir de lista de tuplas. Las claves de los diccionarios sean: \"Nombre, \"Peso\" y \"Precio\" y los valores los elementos de las tuplas.\n",
    "'''\n",
    "\n",
    "metales =[(\"Hierro\", 415, 12), (\"Cobre\", 138, 32), (\"Zinc\", 243, 21)]\n",
    "\n",
    "metales2 = list(map(lambda x: {\"Nombre\": x[0], \"Peso\": x[1], \"Precio\": x[2]}, metales))\n",
    "\n",
    "metales3 = [{\"Nombre\": x[0], \"Peso\": x[1], \"Precio\": x[2]} for x in metales]\n",
    "\n",
    "for metal in metales2:\n",
    "    print(metal)\n",
    "print(\"**************************************\")   \n",
    "for metal in metales3:\n",
    "    print(metal)"
   ]
  },
  {
   "cell_type": "markdown",
   "metadata": {},
   "source": [
    "Funcion filter ()"
   ]
  },
  {
   "cell_type": "code",
   "execution_count": null,
   "metadata": {},
   "outputs": [],
   "source": [
    "''' \n",
    "    La funcion filter va a filtrar unos elementos de otros dentro de un iterable. \n",
    "'''\n",
    "\n",
    "datos = [4, 3, -1, 9, 6, -5, 8, 7, 2]\n",
    "\n",
    "positivos = list(filter(lambda x: x >= 0, datos))\n",
    "\n",
    "positivos2 = [x for x in datos if x >= 7]\n",
    "\n",
    "pares = list(filter(lambda x: x % 2 == 0, datos))\n",
    "\n",
    "print(pares)\n",
    "\n",
    "print(positivos)\n",
    "print(positivos2)"
   ]
  },
  {
   "cell_type": "code",
   "execution_count": null,
   "metadata": {},
   "outputs": [],
   "source": [
    "datos = [2, 0, 5, 0, 0, 3, 12, 0, 15, 0, 0, 0, 29]\n",
    "\n",
    "numeros = list(filter(lambda x: x != 0, datos))\n",
    "\n",
    "numeros2 = list(filter(lambda x: x , datos)) # Estas dos son iguales porque filter devuelve valor logico y los 0 son False\n",
    "\n",
    "numeros3 = list(filter(bool, datos))\n",
    "numeros4 = list(filter(None, datos))\n",
    "\n",
    "\n",
    "\n",
    "numeros_cero = list(filter(lambda x: x == 0, datos))\n",
    "\n",
    "print(numeros)\n",
    "print(numeros2)\n",
    "print(numeros3)\n",
    "print(numeros4)\n",
    "print(numeros_cero)"
   ]
  },
  {
   "cell_type": "code",
   "execution_count": 7,
   "metadata": {},
   "outputs": [
    {
     "name": "stdout",
     "output_type": "stream",
     "text": [
      "[2, 0, 5, 0, 3, 12, 0, 15, 0, 0, 29]\n"
     ]
    }
   ],
   "source": [
    "datos = [2, 0, 5, None, 0, 3, 12, 0, 15, 0, None, 0, 29]\n",
    "\n",
    "numeros = list(filter(lambda x: x is not None , datos))\n",
    "\n",
    "print(numeros)"
   ]
  },
  {
   "cell_type": "code",
   "execution_count": 7,
   "metadata": {},
   "outputs": [
    {
     "name": "stdout",
     "output_type": "stream",
     "text": [
      "['Plata', 'Cobre', 'Plomo', 'Oro']\n",
      "['Plata', 'Cobre', 'Plomo', 'Oro']\n",
      "45\n",
      "<class 'str'>\n",
      "['Cobre']\n",
      "['Cobre']\n",
      "['Cobre']\n"
     ]
    }
   ],
   "source": [
    "''' \n",
    "    1. Crear una lista con metales con valor >= 10.\n",
    "    2. Crear una lista con metales con valor >= 10 y que contengan la letra e en su nombre\n",
    "'''\n",
    "\n",
    "metales = {\n",
    "    \"Hierro\": \"2\",\n",
    "    \"Plata\": \"23\",\n",
    "    \"Zinc\": \"7\",\n",
    "    \"Cobre\": \"11\",\n",
    "    \"Aluminio\": \"4\",\n",
    "    \"Plomo\": \"15\",\n",
    "    \"Oro\": \"30\"\n",
    "}\n",
    "\n",
    "metales1 = list(filter(lambda x:int(metales[x]) >=10, metales))\n",
    "print(metales1)\n",
    "\n",
    "metales2 = [x for x in metales if int(metales[x]) >= 10]\n",
    "print(metales2)\n",
    "print(int(metales[\"Oro\"]) + int(metales[\"Plomo\"]))\n",
    "\n",
    "print( type(metales[\"Hierro\"]))\n",
    "\n",
    "metales_letra = list(filter(lambda x: \"e\" in x, filter(lambda x:int(metales[x]) >=10, metales)))\n",
    "\n",
    "print(metales_letra)\n",
    "\n",
    "metales_letra2 = list(filter(lambda x:int(metales[x]) >=10 and \"e\" in x, metales))\n",
    "print(metales_letra2)\n",
    "\n",
    "metales_letra3 = [x for x in metales if int(metales[x]) >= 10 and \"e\" in x]\n",
    "print(metales_letra3)\n",
    "\n",
    "\n"
   ]
  }
 ],
 "metadata": {
  "kernelspec": {
   "display_name": "Python 3",
   "language": "python",
   "name": "python3"
  },
  "language_info": {
   "codemirror_mode": {
    "name": "ipython",
    "version": 3
   },
   "file_extension": ".py",
   "mimetype": "text/x-python",
   "name": "python",
   "nbconvert_exporter": "python",
   "pygments_lexer": "ipython3",
   "version": "3.13.0"
  }
 },
 "nbformat": 4,
 "nbformat_minor": 2
}
