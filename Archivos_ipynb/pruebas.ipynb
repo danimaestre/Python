{
 "cells": [
  {
   "cell_type": "code",
   "execution_count": null,
   "metadata": {},
   "outputs": [],
   "source": [
    "numeros_pares = [n  for n in range(1,101) if n % 2 == 0]\n",
    "numeros_impares = [n  for n in range(1,101) if n % 2 != 0]\n",
    "numeros_mult10 = [n  for n in range(1,101) if n % 10 == 0]\n",
    "numeros_mult15 = [n  for n in range(1,101) if n % 15 == 0]\n",
    "\n",
    "\n",
    "\n",
    "print(numeros_pares)\n",
    "print(numeros_impares)\n",
    "print(numeros_mult10)\n",
    "print(numeros_mult15)"
   ]
  },
  {
   "cell_type": "code",
   "execution_count": 1,
   "metadata": {},
   "outputs": [
    {
     "name": "stdout",
     "output_type": "stream",
     "text": [
      "['Juan', 'Maria', 'Carlos', '456']\n"
     ]
    }
   ],
   "source": [
    "letras = [\"a\", \"b\", \"t\", \"j\"]\n",
    "\n",
    "palabra = [p.replace(\"a\", \"Juan\").replace(\"b\",\"Maria\").replace(\"t\",\"Carlos\").replace(\"j\", \"456\") for p in letras ]\n",
    "\n",
    "print(palabra)"
   ]
  },
  {
   "cell_type": "code",
   "execution_count": 6,
   "metadata": {},
   "outputs": [
    {
     "name": "stdout",
     "output_type": "stream",
     "text": [
      "As de ♣      2 de ♣       3 de ♣       4 de ♣       5 de ♣       6 de ♣       7 de ♣       8 de ♣       9 de ♣       \n",
      "As de ♥      2 de ♥       3 de ♥       4 de ♥       5 de ♥       6 de ♥       7 de ♥       8 de ♥       9 de ♥       \n",
      "As de ♦      2 de ♦       3 de ♦       4 de ♦       5 de ♦       6 de ♦       7 de ♦       8 de ♦       9 de ♦       \n",
      "As de ♠      2 de ♠       3 de ♠       4 de ♠       5 de ♠       6 de ♠       7 de ♠       8 de ♠       9 de ♠       \n",
      "\n"
     ]
    }
   ],
   "source": [
    "trebol = \"\\u2663\"  # ♣\n",
    "corazon = \"\\u2665\"  # ♥\n",
    "diamante = \"\\u2666\"  # ♦\n",
    "pica = \"\\u2660\"\n",
    "\n",
    "unicode = [trebol, corazon, diamante, pica]\n",
    "numeros =[\"As\", \"2\", \"3\", \"4\", \"5\", \"6\", \"7\", \"8\", \"9\"]\n",
    "baraja =[]\n",
    "for u in unicode:\n",
    "    for j in numeros:\n",
    "        mezcla= f\"{j} de {u}\"\n",
    "        baraja.append(mezcla)\n",
    "#print(baraja)\n",
    "\n",
    "for i in range(0, 36, 9):\n",
    "    for j in range(9):\n",
    "        print(f\"{baraja[i+j]:12}\", end=\" \")\n",
    "    print()\n",
    "print()\n",
    "\n",
    "    "
   ]
  },
  {
   "cell_type": "code",
   "execution_count": null,
   "metadata": {},
   "outputs": [],
   "source": [
    "trebol = \"\\u2663\"  # ♣\n",
    "corazon = \"\\u2665\"  # ♥\n",
    "diamante = \"\\u2666\"  # ♦\n",
    "pica = \"\\u2660\"\n",
    "\n",
    "unicode = [trebol, corazon, diamante, pica]\n",
    "numeros =[\"As\", \"2\", \"3\", \"4\", \"5\", \"6\", \"7\", \"8\", \"9\", \"10\", \"11\"]\n",
    "baraja =[]\n",
    "for n in numeros:\n",
    "    for u in unicode:\n",
    "        mezcla= f\"{n} de {u}\"\n",
    "        baraja.append(mezcla)\n",
    "print(baraja)\n",
    "\n",
    "for i in range(0, 44, 4):\n",
    "    for j in range(4):\n",
    "        print(f\"{baraja[i+j]:12}\", end=\" \")\n",
    "    print()\n",
    "print()\n",
    "\n",
    "    "
   ]
  },
  {
   "cell_type": "code",
   "execution_count": 11,
   "metadata": {},
   "outputs": [
    {
     "name": "stdout",
     "output_type": "stream",
     "text": [
      "AmArIlLo\n",
      " AmArIlLo\n"
     ]
    }
   ],
   "source": [
    "nombre = \"amarillo\"\n",
    "\n",
    "\n",
    "new_name = \"\"\n",
    "for i in range(len(nombre)):\n",
    "    if i % 2 == 0:\n",
    "        new_name += nombre[i].upper()\n",
    "    else:\n",
    "        new_name += nombre[i].lower()\n",
    "print(new_name, end=\"\")\n",
    "\n",
    "    \n",
    "nombre = \"amarillo\"\n",
    "nueva_cadena = ''.join(c.upper() if i % 2 == 0 else c.lower() for i, c in enumerate(nombre))\n",
    "print(\"\\n\",nueva_cadena)\n"
   ]
  },
  {
   "cell_type": "code",
   "execution_count": 9,
   "metadata": {},
   "outputs": [
    {
     "name": "stdout",
     "output_type": "stream",
     "text": [
      "Mellama\n",
      "MeSilla\n",
      "['Tele', 'Silla', 'Armario']\n",
      "Te\n"
     ]
    }
   ],
   "source": [
    "nombres = [\"Mesa\", \"Silla\", \"Armario\"]\n",
    "\n",
    "print(nombres[0][:2] + nombres[1][2:] + nombres[2][2:4])\n",
    "print(nombres[0][:2] + nombres[1])\n",
    "nombres[0] = \"Tele\"\n",
    "print(nombres)\n",
    "t = nombres[0][:2] \n",
    "print(t)"
   ]
  }
 ],
 "metadata": {
  "kernelspec": {
   "display_name": "Python 3",
   "language": "python",
   "name": "python3"
  },
  "language_info": {
   "codemirror_mode": {
    "name": "ipython",
    "version": 3
   },
   "file_extension": ".py",
   "mimetype": "text/x-python",
   "name": "python",
   "nbconvert_exporter": "python",
   "pygments_lexer": "ipython3",
   "version": "3.13.0"
  }
 },
 "nbformat": 4,
 "nbformat_minor": 2
}
