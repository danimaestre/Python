{
 "cells": [
  {
   "cell_type": "markdown",
   "id": "64223e00",
   "metadata": {},
   "source": [
    "Suma de matrices"
   ]
  },
  {
   "cell_type": "code",
   "execution_count": 17,
   "id": "b72975f5",
   "metadata": {},
   "outputs": [
    {
     "name": "stdout",
     "output_type": "stream",
     "text": [
      "[1, 2, 3]   [9, 8, 7]   [10, 10, 10]\n",
      "[4, 5, 6] + [6, 5, 4] = [10, 10, 10]\n",
      "[7, 8, 9]   [3, 2, 1]   [10, 10, 10]\n"
     ]
    }
   ],
   "source": [
    "matix_a = [[1,2,3],\n",
    "           [4,5,6],\n",
    "           [7,8,9]]\n",
    "\n",
    "matix_b = [[9,8,7],\n",
    "           [6,5,4],\n",
    "           [3,2,1]]\n",
    "\n",
    "matrix_r = []\n",
    "\n",
    "for i in range(len(matix_a)):\n",
    "    new_row = []\n",
    "    for j in range(len(matix_b[0])):\n",
    "        new_row.append(matix_a[i][j] + matix_b[i][j])\n",
    "    matrix_r.append(new_row)\n",
    "\n",
    "       \n",
    "for row in range(len(matix_a)):\n",
    "    if row != 1:\n",
    "            print(f\"{matix_a[row]}   {matix_b[row]}   {matrix_r[row]}\")\n",
    "    else:\n",
    "            print(f\"{matix_a[row]} + {matix_b[row]} = {matrix_r[row]}\")\n"
   ]
  },
  {
   "cell_type": "markdown",
   "id": "cd072a64",
   "metadata": {},
   "source": [
    "Suma de matrices desde teclado\n",
    "***\n",
    "###### 1º El programa debera solicitar al usuario la 'cantidad de matrices que se van a sumar', y a su vez, se debe validar que el usuario este intentanto sumar dos o mas matrices.\n",
    "\n",
    "###### 2º El programa debera solicitar al usuario ' la cantidad de filas y columnas que tendran las matrices ' que se van a sumar."
   ]
  },
  {
   "cell_type": "code",
   "execution_count": 20,
   "id": "541cd8b0",
   "metadata": {},
   "outputs": [
    {
     "name": "stdout",
     "output_type": "stream",
     "text": [
      "Se necesitan dos o mas matrices para realizar la suma\n"
     ]
    }
   ],
   "source": [
    "number_of_matrix = int(input(\"¿Cuantas matrices quieres sumar?: \"))\n",
    "\n",
    "if number_of_matrix > 1:\n",
    "    rows = int(input(\"¿Cuantas filas tendran las matrices?: \"))\n",
    "    columns = int(input(\"¿Cuantas columnas tendran las matrices?: \"))\n",
    "    \n",
    "    matrix_list = []\n",
    "    \n",
    "    # Llenado de matrices\n",
    "    for number in range(number_of_matrix):\n",
    "        matrix = []\n",
    "        for row in range(rows):\n",
    "            new_row = []\n",
    "            for column in range(columns):\n",
    "                new_row.append(\n",
    "                    int(input(f\"Introduce un elemento para la matriz {number +1 } fila {row}, columna {column}: \")))\n",
    "            matrix.append(new_row)\n",
    "        matrix_list.append(matrix)\n",
    "        \n",
    "    # Suma de matrices\n",
    "    matrix = []\n",
    "    for row in range(rows):\n",
    "        new_row = []\n",
    "        for column in range(columns):\n",
    "            sum_matrix = 0\n",
    "            for matrix_position in range(len(matrix_list)):\n",
    "                sum_matrix += matrix_list[matrix_position][row][column]\n",
    "            new_row.append(sum_matrix)\n",
    "        matrix.append(new_row)\n",
    "    matrix_list.append(matrix)\n",
    "    \n",
    "    # Imprimir matrices\n",
    "    for matrix_row in range(rows):\n",
    "        for matrix_list_position in range(len(matrix_list)):\n",
    "            if matrix_row != 1:\n",
    "                print(f\"{matrix_list[matrix_list_position][matrix_row]}\", end=\"   \")\n",
    "            else:\n",
    "                if matrix_list_position < len(matrix_list) - 2:\n",
    "                    print(f\"{matrix_list[matrix_list_position][matrix_row]}\", end=\" + \")\n",
    "                elif matrix_list_position < len(matrix_list) - 1:\n",
    "                    print(f\"{matrix_list[matrix_list_position][matrix_row]}\", end=\" = \")\n",
    "                else:\n",
    "                    print(f\"{matrix_list[matrix_list_position][matrix_row]}\", end=\"   \")\n",
    "        print()\n",
    "                    \n",
    "\n",
    "\n",
    "else:\n",
    "    print(\"Se necesitan dos o mas matrices para realizar la suma\")"
   ]
  }
 ],
 "metadata": {
  "kernelspec": {
   "display_name": "Python 3",
   "language": "python",
   "name": "python3"
  },
  "language_info": {
   "codemirror_mode": {
    "name": "ipython",
    "version": 3
   },
   "file_extension": ".py",
   "mimetype": "text/x-python",
   "name": "python",
   "nbconvert_exporter": "python",
   "pygments_lexer": "ipython3",
   "version": "3.13.0"
  }
 },
 "nbformat": 4,
 "nbformat_minor": 5
}
