{
 "cells": [
  {
   "cell_type": "markdown",
   "id": "724eebff",
   "metadata": {},
   "source": [
    "Matriz automatica"
   ]
  },
  {
   "cell_type": "code",
   "execution_count": 4,
   "id": "b2ce432a",
   "metadata": {},
   "outputs": [
    {
     "name": "stdout",
     "output_type": "stream",
     "text": [
      "[23, 34, 45]\n",
      "[14, 56, 89]\n",
      "[34, 23, 65]\n",
      "[[23, 34, 45], [14, 56, 89], [34, 23, 65]]\n"
     ]
    }
   ],
   "source": [
    "row = int(input(\"Cuantas filas deseas para la matriz? : \"))\n",
    "columns = int(input(\"Cuantas columnas deseas para la matriz? : \"))\n",
    "\n",
    "matrix = []\n",
    "\n",
    "for row_position in range(row):\n",
    "    row = []\n",
    "    for element in range(columns):\n",
    "        row.append(int(input(f\"Introduce un elemento a la fila {row_position}, columna {element}\")))\n",
    "    matrix.append(row)\n",
    "    \n",
    "for row in matrix:\n",
    "    print(row)\n",
    "    \n",
    "print(matrix)"
   ]
  }
 ],
 "metadata": {
  "kernelspec": {
   "display_name": "Python 3",
   "language": "python",
   "name": "python3"
  },
  "language_info": {
   "codemirror_mode": {
    "name": "ipython",
    "version": 3
   },
   "file_extension": ".py",
   "mimetype": "text/x-python",
   "name": "python",
   "nbconvert_exporter": "python",
   "pygments_lexer": "ipython3",
   "version": "3.13.0"
  }
 },
 "nbformat": 4,
 "nbformat_minor": 5
}
